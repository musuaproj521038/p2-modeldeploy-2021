{
 "cells": [
  {
   "cell_type": "code",
   "execution_count": null,
   "metadata": {
    "scrolled": true
   },
   "outputs": [],
   "source": [
    "from azureml.core import Workspace\n",
    "ws = Workspace.from_config(path = \"config.json\")\n",
    "print(ws)"
   ]
  },
  {
   "cell_type": "code",
   "execution_count": null,
   "metadata": {
    "scrolled": true
   },
   "outputs": [],
   "source": [
    "from azureml.core.model import Model\n",
    "#import logging\n",
    "#logging.basicConfig(level=logging.DEBUG)\n",
    "\n",
    "# Register model\n",
    "model0 = Model.register(\n",
    "    ws, \n",
    "    model_name = \"readability-model-p0\", \n",
    "    model_path = \"model_0.joblib\",\n",
    "    model_framework=Model.Framework.SCIKITLEARN,  # Framework used to create the model.\n",
    "    model_framework_version=\"0.23.2\",\n",
    "    description='Predict readability of passage. First part of model.',\n",
    "    tags={'type': 'regression'}\n",
    ")\n",
    "model1 = Model.register(\n",
    "    ws, \n",
    "    model_name = \"readability-model-p1\", \n",
    "    model_path = \"model_1.joblib\",\n",
    "    model_framework=Model.Framework.SCIKITLEARN,  # Framework used to create the model.\n",
    "    model_framework_version=\"0.23.2\",\n",
    "    description='Predict readability of passage. Second part of model.',\n",
    "    tags={'type': 'regression'}\n",
    ")\n",
    "\n",
    "#print(Model.get_model_path(model_name='model.pkl'))"
   ]
  },
  {
   "cell_type": "code",
   "execution_count": null,
   "metadata": {
    "scrolled": true
   },
   "outputs": [],
   "source": [
    "from azureml.core import Environment\n",
    "from azureml.core.conda_dependencies import CondaDependencies\n",
    "from azureml.core.model import InferenceConfig\n",
    "\n",
    "env = Environment(name = \"readability-model\")\n",
    "conda_dep = CondaDependencies()\n",
    "conda_dep.set_python_version(\"3.7.10\")\n",
    "conda_dep.add_pip_package(\"https://github.com/explosion/spacy-models/releases/download/en_core_web_lg-2.3.1/en_core_web_lg-2.3.1.tar.gz\")\n",
    "conda_dep.add_pip_package(\"azureml-model-management-sdk\")\n",
    "conda_dep.add_pip_package(\"numpy==1.19.5\")\n",
    "conda_dep.add_pip_package(\"scikit-learn==0.23.2\")\n",
    "conda_dep.add_pip_package(\"nltk==3.2.4\")\n",
    "conda_dep.add_pip_package(\"spacy==2.3.7\")\n",
    "conda_dep.add_pip_package(\"pandas==1.2.4\")\n",
    "conda_dep.add_pip_package(\"readability==0.3.1\")\n",
    "env.python.conda_dependencies = conda_dep\n",
    "\n",
    "dummy_inference_config = InferenceConfig(\n",
    "    environment = env,\n",
    "    source_directory = \"./source_dir\",\n",
    "    entry_script = \"score.py\",\n",
    ")\n"
   ]
  },
  {
   "cell_type": "code",
   "execution_count": null,
   "metadata": {
    "scrolled": false
   },
   "outputs": [],
   "source": [
    "# Create a cloud deployment.\n",
    "# from azureml.core.webservice import AciWebservice\n",
    "# deployment_config = AciWebservice.deploy_configuration(cpu_cores = 2, memory_gb = 4)\n",
    "\n",
    "# Create a local deployment, using port 8890 for the web service endpoint\n",
    "from azureml.core.webservice import LocalWebservice\n",
    "deployment_config = LocalWebservice.deploy_configuration(port=8890)\n",
    "\n",
    "service = Model.deploy(\n",
    "    ws,\n",
    "    \"readability-model\",\n",
    "    [model1, model0],\n",
    "    inference_config=dummy_inference_config,\n",
    "    deployment_config=deployment_config,\n",
    "    overwrite = True,\n",
    ")\n",
    "service.wait_for_deployment(show_output = True)"
   ]
  },
  {
   "cell_type": "code",
   "execution_count": null,
   "metadata": {
    "scrolled": true
   },
   "outputs": [],
   "source": [
    "import requests\n",
    "import json\n",
    "\n",
    "uri = service.scoring_uri\n",
    "requests.get(uri)\n",
    "headers = {\"Content-Type\": \"application/json\"}\n",
    "data = {\n",
    "    \"id\": \"965e592c0\",\n",
    "    \"url_legal\": \"https://www.africanstorybook.org/#\",\n",
    "    \"license\": \"CC BY 4.0\",\n",
    "    \"excerpt\": \"Milka and John are playing in the garden. Her little sister is playing too. Milka is ready to start classes next week and it will be her first term in school. In the morning, Milka gets up early to take a bath. She puts on her school uniform and carries her school bag. Her Mother gives her two thousand shillings for school fees and five hundred shillings for transport. Then, she quickly goes to school. Meanwhile, her big brother stays at home. He is still in his bed and sleeps. Once she grows up and graduates school, Milka dreams to build a beautiful house for her and her family. While she is at school, she is very active and participates in all the activities. The teachers love her attitude. Milka listens carefully to her teacher. Her classmates admire her too, because she is a kind girl. At break time she tries to help other classmates with their practical exercies and homeworks.\"\n",
    "}\n",
    "data = json.dumps(data)\n",
    "response = requests.post(uri, data = data, headers = headers)\n",
    "print(response.text)"
   ]
  },
  {
   "cell_type": "code",
   "execution_count": null,
   "metadata": {
    "scrolled": true
   },
   "outputs": [],
   "source": [
    "print(service.get_logs())"
   ]
  },
  {
   "cell_type": "code",
   "execution_count": null,
   "metadata": {
    "scrolled": true
   },
   "outputs": [],
   "source": [
    "# Remove the models\n",
    "model0.delete()\n",
    "model1.delete()"
   ]
  },
  {
   "cell_type": "code",
   "execution_count": null,
   "metadata": {},
   "outputs": [],
   "source": [
    "# Delete the service\n",
    "service.delete()"
   ]
  }
 ],
 "metadata": {
  "kernelspec": {
   "display_name": "Python 3 (ipykernel)",
   "language": "python",
   "name": "python3"
  },
  "language_info": {
   "codemirror_mode": {
    "name": "ipython",
    "version": 3
   },
   "file_extension": ".py",
   "mimetype": "text/x-python",
   "name": "python",
   "nbconvert_exporter": "python",
   "pygments_lexer": "ipython3",
   "version": "3.8.10"
  }
 },
 "nbformat": 4,
 "nbformat_minor": 2
}
